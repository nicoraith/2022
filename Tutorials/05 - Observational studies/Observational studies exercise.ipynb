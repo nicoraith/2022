{
 "cells": [
  {
   "cell_type": "markdown",
   "metadata": {},
   "source": [
    "### Welcome to the exercise about observational studies! This exercise will be hands on, and you will be able to practise the skills you developed so far!"
   ]
  },
  {
   "cell_type": "markdown",
   "metadata": {},
   "source": [
    "## Propensity score matching\n",
    "\n",
    "In this exercise, you will apply [propensity score matching](http://www.stewartschultz.com/statistics/books/Design%20of%20observational%20studies.pdf), which we discussed in lecture 6 (\"Observational studies\"), in order to draw conclusions from an observational study.\n",
    "\n",
    "We will work with a by-now classic dataset from Robert LaLonde's study \"[Evaluating the Econometric Evaluations of Training Programs](http://people.hbs.edu/nashraf/LaLonde_1986.pdf)\" (1986).\n",
    "The study investigated the effect of a job training program (\"National Supported Work Demonstration\") on the real earnings of an individual, a couple of years after completion of the program.\n",
    "Your task is to determine the effectiveness of the \"treatment\" represented by the job training program."
   ]
  },
  {
   "cell_type": "markdown",
   "metadata": {},
   "source": [
    "#### Dataset description\n",
    "\n",
    "- `treat`: 1 if the subject participated in the job training program, 0 otherwise\n",
    "- `age`: the subject's age\n",
    "- `educ`: years of education\n",
    "- `race`: categorical variable with three possible values: Black, Hispanic, or White\n",
    "- `married`: 1 if the subject was married at the time of the training program, 0 otherwise\n",
    "- `nodegree`: 1 if the subject has earned no school degree, 0 otherwise\n",
    "- `re74`: real earnings in 1974 (pre-treatment)\n",
    "- `re75`: real earnings in 1975 (pre-treatment)\n",
    "- `re78`: real earnings in 1978 (outcome)"
   ]
  },
  {
   "cell_type": "markdown",
   "metadata": {},
   "source": [
    "If you want to deepen your knowledge on propensity scores and observational studies, we highly recommend Rosenbaum's excellent book on the [\"Design of Observational Studies\"](http://www.stewartschultz.com/statistics/books/Design%20of%20observational%20studies.pdf). Even just reading the first chapter (18 pages) will help you a lot."
   ]
  },
  {
   "cell_type": "code",
   "execution_count": 20,
   "metadata": {
    "tags": []
   },
   "outputs": [],
   "source": [
    "import pandas as pd\n",
    "import pandas as pd\n",
    "import numpy as np\n",
    "import matplotlib.pyplot as plt\n",
    "import seaborn as sns\n",
    "import networkx as nx\n",
    "import statsmodels.api as sm\n",
    "import statsmodels.formula.api as smf\n",
    "%matplotlib inline\n",
    "\n",
    "data_folder = './data/'\n",
    "df = pd.read_csv(data_folder + 'lalonde.csv')"
   ]
  },
  {
   "cell_type": "code",
   "execution_count": 2,
   "metadata": {},
   "outputs": [
    {
     "data": {
      "text/html": [
       "<div>\n",
       "<style scoped>\n",
       "    .dataframe tbody tr th:only-of-type {\n",
       "        vertical-align: middle;\n",
       "    }\n",
       "\n",
       "    .dataframe tbody tr th {\n",
       "        vertical-align: top;\n",
       "    }\n",
       "\n",
       "    .dataframe thead th {\n",
       "        text-align: right;\n",
       "    }\n",
       "</style>\n",
       "<table border=\"1\" class=\"dataframe\">\n",
       "  <thead>\n",
       "    <tr style=\"text-align: right;\">\n",
       "      <th></th>\n",
       "      <th>id</th>\n",
       "      <th>treat</th>\n",
       "      <th>age</th>\n",
       "      <th>educ</th>\n",
       "      <th>black</th>\n",
       "      <th>hispan</th>\n",
       "      <th>married</th>\n",
       "      <th>nodegree</th>\n",
       "      <th>re74</th>\n",
       "      <th>re75</th>\n",
       "      <th>re78</th>\n",
       "    </tr>\n",
       "  </thead>\n",
       "  <tbody>\n",
       "    <tr>\n",
       "      <th>3</th>\n",
       "      <td>NSW4</td>\n",
       "      <td>1</td>\n",
       "      <td>27</td>\n",
       "      <td>11</td>\n",
       "      <td>1</td>\n",
       "      <td>0</td>\n",
       "      <td>0</td>\n",
       "      <td>1</td>\n",
       "      <td>0.0000</td>\n",
       "      <td>0.0000</td>\n",
       "      <td>7506.14600</td>\n",
       "    </tr>\n",
       "    <tr>\n",
       "      <th>137</th>\n",
       "      <td>NSW138</td>\n",
       "      <td>1</td>\n",
       "      <td>18</td>\n",
       "      <td>10</td>\n",
       "      <td>1</td>\n",
       "      <td>0</td>\n",
       "      <td>0</td>\n",
       "      <td>1</td>\n",
       "      <td>2143.4110</td>\n",
       "      <td>1784.2740</td>\n",
       "      <td>11141.39000</td>\n",
       "    </tr>\n",
       "    <tr>\n",
       "      <th>450</th>\n",
       "      <td>PSID266</td>\n",
       "      <td>0</td>\n",
       "      <td>17</td>\n",
       "      <td>9</td>\n",
       "      <td>1</td>\n",
       "      <td>0</td>\n",
       "      <td>0</td>\n",
       "      <td>1</td>\n",
       "      <td>0.0000</td>\n",
       "      <td>297.1935</td>\n",
       "      <td>54.67588</td>\n",
       "    </tr>\n",
       "    <tr>\n",
       "      <th>283</th>\n",
       "      <td>PSID99</td>\n",
       "      <td>0</td>\n",
       "      <td>28</td>\n",
       "      <td>12</td>\n",
       "      <td>1</td>\n",
       "      <td>0</td>\n",
       "      <td>0</td>\n",
       "      <td>0</td>\n",
       "      <td>16722.3400</td>\n",
       "      <td>4253.8060</td>\n",
       "      <td>7314.74700</td>\n",
       "    </tr>\n",
       "    <tr>\n",
       "      <th>16</th>\n",
       "      <td>NSW17</td>\n",
       "      <td>1</td>\n",
       "      <td>27</td>\n",
       "      <td>13</td>\n",
       "      <td>1</td>\n",
       "      <td>0</td>\n",
       "      <td>0</td>\n",
       "      <td>0</td>\n",
       "      <td>0.0000</td>\n",
       "      <td>0.0000</td>\n",
       "      <td>14581.86000</td>\n",
       "    </tr>\n",
       "    <tr>\n",
       "      <th>68</th>\n",
       "      <td>NSW69</td>\n",
       "      <td>1</td>\n",
       "      <td>45</td>\n",
       "      <td>5</td>\n",
       "      <td>1</td>\n",
       "      <td>0</td>\n",
       "      <td>1</td>\n",
       "      <td>1</td>\n",
       "      <td>0.0000</td>\n",
       "      <td>0.0000</td>\n",
       "      <td>8546.71500</td>\n",
       "    </tr>\n",
       "    <tr>\n",
       "      <th>405</th>\n",
       "      <td>PSID221</td>\n",
       "      <td>0</td>\n",
       "      <td>19</td>\n",
       "      <td>12</td>\n",
       "      <td>0</td>\n",
       "      <td>0</td>\n",
       "      <td>0</td>\n",
       "      <td>0</td>\n",
       "      <td>815.0550</td>\n",
       "      <td>964.9839</td>\n",
       "      <td>12059.73000</td>\n",
       "    </tr>\n",
       "    <tr>\n",
       "      <th>550</th>\n",
       "      <td>PSID366</td>\n",
       "      <td>0</td>\n",
       "      <td>16</td>\n",
       "      <td>9</td>\n",
       "      <td>0</td>\n",
       "      <td>1</td>\n",
       "      <td>0</td>\n",
       "      <td>1</td>\n",
       "      <td>0.0000</td>\n",
       "      <td>0.0000</td>\n",
       "      <td>0.00000</td>\n",
       "    </tr>\n",
       "    <tr>\n",
       "      <th>253</th>\n",
       "      <td>PSID69</td>\n",
       "      <td>0</td>\n",
       "      <td>30</td>\n",
       "      <td>17</td>\n",
       "      <td>1</td>\n",
       "      <td>0</td>\n",
       "      <td>0</td>\n",
       "      <td>0</td>\n",
       "      <td>17827.3700</td>\n",
       "      <td>5546.4190</td>\n",
       "      <td>14421.13000</td>\n",
       "    </tr>\n",
       "    <tr>\n",
       "      <th>335</th>\n",
       "      <td>PSID151</td>\n",
       "      <td>0</td>\n",
       "      <td>19</td>\n",
       "      <td>12</td>\n",
       "      <td>0</td>\n",
       "      <td>0</td>\n",
       "      <td>0</td>\n",
       "      <td>0</td>\n",
       "      <td>336.9939</td>\n",
       "      <td>2518.9840</td>\n",
       "      <td>7118.20900</td>\n",
       "    </tr>\n",
       "  </tbody>\n",
       "</table>\n",
       "</div>"
      ],
      "text/plain": [
       "          id  treat  age  educ  black  hispan  married  nodegree        re74  \\\n",
       "3       NSW4      1   27    11      1       0        0         1      0.0000   \n",
       "137   NSW138      1   18    10      1       0        0         1   2143.4110   \n",
       "450  PSID266      0   17     9      1       0        0         1      0.0000   \n",
       "283   PSID99      0   28    12      1       0        0         0  16722.3400   \n",
       "16     NSW17      1   27    13      1       0        0         0      0.0000   \n",
       "68     NSW69      1   45     5      1       0        1         1      0.0000   \n",
       "405  PSID221      0   19    12      0       0        0         0    815.0550   \n",
       "550  PSID366      0   16     9      0       1        0         1      0.0000   \n",
       "253   PSID69      0   30    17      1       0        0         0  17827.3700   \n",
       "335  PSID151      0   19    12      0       0        0         0    336.9939   \n",
       "\n",
       "          re75         re78  \n",
       "3       0.0000   7506.14600  \n",
       "137  1784.2740  11141.39000  \n",
       "450   297.1935     54.67588  \n",
       "283  4253.8060   7314.74700  \n",
       "16      0.0000  14581.86000  \n",
       "68      0.0000   8546.71500  \n",
       "405   964.9839  12059.73000  \n",
       "550     0.0000      0.00000  \n",
       "253  5546.4190  14421.13000  \n",
       "335  2518.9840   7118.20900  "
      ]
     },
     "execution_count": 2,
     "metadata": {},
     "output_type": "execute_result"
    }
   ],
   "source": [
    "df.sample(10)"
   ]
  },
  {
   "cell_type": "markdown",
   "metadata": {},
   "source": [
    "## 1. A naive analysis\n",
    "\n",
    "Compare the distribution of the outcome variable (`re78`) between the two groups, using plots and numbers.\n",
    "To summarize and compare the distributions, you may use the techniques we discussed in lecture 4 (\"Descibing data\") and 3 (\"Visualizing data\").\n",
    "\n",
    "What might a naive \"researcher\" conclude from this superficial analysis?"
   ]
  },
  {
   "cell_type": "code",
   "execution_count": 5,
   "metadata": {
    "collapsed": true,
    "jupyter": {
     "outputs_hidden": true
    }
   },
   "outputs": [],
   "source": [
    "# First lets create the two separate groups\n",
    "treated = df.loc[df['treat'] == 1] #People that attained the programme\n",
    "control = df.loc[df['treat'] == 0] #People that didn't attain the programme"
   ]
  },
  {
   "cell_type": "code",
   "execution_count": 6,
   "metadata": {},
   "outputs": [
    {
     "data": {
      "text/plain": [
       "count      185.000000\n",
       "mean      6349.143530\n",
       "std       7867.402218\n",
       "min          0.000000\n",
       "25%        485.229800\n",
       "50%       4232.309000\n",
       "75%       9642.999000\n",
       "max      60307.930000\n",
       "Name: re78, dtype: float64"
      ]
     },
     "execution_count": 6,
     "metadata": {},
     "output_type": "execute_result"
    }
   ],
   "source": [
    "# We will look at the mean of the income of the treated population in 78\n",
    "treated.re78.describe()"
   ]
  },
  {
   "cell_type": "code",
   "execution_count": 7,
   "metadata": {},
   "outputs": [
    {
     "data": {
      "text/plain": [
       "count      429.000000\n",
       "mean      6984.169742\n",
       "std       7294.161791\n",
       "min          0.000000\n",
       "25%        220.181300\n",
       "50%       4975.505000\n",
       "75%      11688.820000\n",
       "max      25564.670000\n",
       "Name: re78, dtype: float64"
      ]
     },
     "execution_count": 7,
     "metadata": {},
     "output_type": "execute_result"
    }
   ],
   "source": [
    "# We will look at the mean of the income of the control population in 78\n",
    "control.re78.describe()"
   ]
  },
  {
   "cell_type": "code",
   "execution_count": 8,
   "metadata": {},
   "outputs": [
    {
     "data": {
      "image/png": "[encoded data removed]",
      "text/plain": [
       "<Figure size 640x480 with 1 Axes>"
      ]
     },
     "metadata": {},
     "output_type": "display_data"
    }
   ],
   "source": [
    "ax = sns.histplot(treated['re78'], kde=True, stat='density', color='blue', label='treated')\n",
    "ax = sns.histplot(control['re78'], kde=True, stat='density', color='orange', label='control')\n",
    "ax.set(title='Income distribution comparison in 1978',xlabel='Income 1978', ylabel='Income density')\n",
    "plt.legend()\n",
    "plt.show()"
   ]
  },
  {
   "attachments": {},
   "cell_type": "markdown",
   "metadata": {},
   "source": [
    "* We can see that there is a higher count of people in the control group than in the treated group.\n",
    "* The mean income is higher for the control group. Naively, this would mean that the \"treatment\" i.e. the training of the workforce is not effective.\n",
    "* The treated group has a large number of people in the 1st quartile.\n",
    "* The control group has a larger number of people in the 2nd and 3rd quartiles.\n",
    "* The treated group has a few outliers in the very large incomes"
   ]
  },
  {
   "cell_type": "markdown",
   "metadata": {},
   "source": [
    "## 2. A closer look at the data\n",
    "\n",
    "You're not naive, of course (and even if you are, you've learned certain things in ADA), so you aren't content with a superficial analysis such as the above.\n",
    "You're aware of the dangers of observational studies, so you take a closer look at the data before jumping to conclusions.\n",
    "\n",
    "For each feature in the dataset, compare its distribution in the treated group with its distribution in the control group, using plots and numbers.\n",
    "As above, you may use the techniques we discussed in class for summarizing and comparing the distributions.\n",
    "\n",
    "What do you observe?\n",
    "Describe what your observations mean for the conclusions drawn by the naive \"researcher\" from his superficial analysis."
   ]
  },
  {
   "cell_type": "code",
   "execution_count": 9,
   "metadata": {
    "collapsed": true,
    "jupyter": {
     "outputs_hidden": true
    }
   },
   "outputs": [],
   "source": [
    "# We will plot all the different features available in the dataframe"
   ]
  },
  {
   "cell_type": "code",
   "execution_count": 12,
   "metadata": {},
   "outputs": [
    {
     "data": {
      "image/png": "[encoded data removed]",
      "text/plain": [
       "<Figure size 500x500 with 1 Axes>"
      ]
     },
     "metadata": {},
     "output_type": "display_data"
    }
   ],
   "source": [
    "# Age\n",
    "df.boxplot(by='treat', column='age', figsize = [5, 5], grid=True)\n",
    "plt.show()\n",
    "\n",
    "# We can see that the treated group tends to be younger"
   ]
  },
  {
   "cell_type": "code",
   "execution_count": 14,
   "metadata": {},
   "outputs": [
    {
     "data": {
      "image/png": "[encoded data removed]",
      "text/plain": [
       "<Figure size 500x500 with 1 Axes>"
      ]
     },
     "metadata": {},
     "output_type": "display_data"
    }
   ],
   "source": [
    "# Education\n",
    "df.boxplot(by='treat', column='educ', figsize = [5, 5], grid=True)\n",
    "plt.show()\n",
    "\n",
    "# We can see that there is no significant difference between the two groups in terms of years of education"
   ]
  },
  {
   "cell_type": "code",
   "execution_count": 15,
   "metadata": {},
   "outputs": [
    {
     "ename": "TypeError",
     "evalue": "unsupported operand type(s) for /: 'str' and 'float'",
     "output_type": "error",
     "traceback": [
      "\u001b[0;31m---------------------------------------------------------------------------\u001b[0m",
      "\u001b[0;31mTypeError\u001b[0m                                 Traceback (most recent call last)",
      "File \u001b[0;32m~/opt/anaconda3/envs/ada/lib/python3.8/site-packages/pandas/core/ops/array_ops.py:142\u001b[0m, in \u001b[0;36m_na_arithmetic_op\u001b[0;34m(left, right, op, is_cmp)\u001b[0m\n\u001b[1;32m    141\u001b[0m \u001b[39mtry\u001b[39;00m:\n\u001b[0;32m--> 142\u001b[0m     result \u001b[39m=\u001b[39m expressions\u001b[39m.\u001b[39;49mevaluate(op, left, right)\n\u001b[1;32m    143\u001b[0m \u001b[39mexcept\u001b[39;00m \u001b[39mTypeError\u001b[39;00m:\n",
      "File \u001b[0;32m~/opt/anaconda3/envs/ada/lib/python3.8/site-packages/pandas/core/computation/expressions.py:235\u001b[0m, in \u001b[0;36mevaluate\u001b[0;34m(op, a, b, use_numexpr)\u001b[0m\n\u001b[1;32m    233\u001b[0m     \u001b[39mif\u001b[39;00m use_numexpr:\n\u001b[1;32m    234\u001b[0m         \u001b[39m# error: \"None\" not callable\u001b[39;00m\n\u001b[0;32m--> 235\u001b[0m         \u001b[39mreturn\u001b[39;00m _evaluate(op, op_str, a, b)  \u001b[39m# type: ignore[misc]\u001b[39;00m\n\u001b[1;32m    236\u001b[0m \u001b[39mreturn\u001b[39;00m _evaluate_standard(op, op_str, a, b)\n",
      "File \u001b[0;32m~/opt/anaconda3/envs/ada/lib/python3.8/site-packages/pandas/core/computation/expressions.py:69\u001b[0m, in \u001b[0;36m_evaluate_standard\u001b[0;34m(op, op_str, a, b)\u001b[0m\n\u001b[1;32m     68\u001b[0m \u001b[39mwith\u001b[39;00m np\u001b[39m.\u001b[39merrstate(\u001b[39mall\u001b[39m\u001b[39m=\u001b[39m\u001b[39m\"\u001b[39m\u001b[39mignore\u001b[39m\u001b[39m\"\u001b[39m):\n\u001b[0;32m---> 69\u001b[0m     \u001b[39mreturn\u001b[39;00m op(a, b)\n",
      "\u001b[0;31mTypeError\u001b[0m: unsupported operand type(s) for /: 'str' and 'float'",
      "\nDuring handling of the above exception, another exception occurred:\n",
      "\u001b[0;31mTypeError\u001b[0m                                 Traceback (most recent call last)",
      "\u001b[1;32m/Users/nikolausraith/Documents/EPFL_Master/MA-3/ADA/2022/Tutorials/05 - Observational studies/Observational studies exercise.ipynb Cell 17\u001b[0m in \u001b[0;36m<cell line: 8>\u001b[0;34m()\u001b[0m\n\u001b[1;32m      <a href='vscode-notebook-cell:/Users/nikolausraith/Documents/EPFL_Master/MA-3/ADA/2022/Tutorials/05%20-%20Observational%20studies/Observational%20studies%20exercise.ipynb#X34sZmlsZQ%3D%3D?line=3'>4</a>\u001b[0m df[\u001b[39m'\u001b[39m\u001b[39mwhite\u001b[39m\u001b[39m'\u001b[39m] \u001b[39m=\u001b[39m (\u001b[39m~\u001b[39m(df[\u001b[39m'\u001b[39m\u001b[39mblack\u001b[39m\u001b[39m'\u001b[39m]\u001b[39m.\u001b[39mastype(\u001b[39mbool\u001b[39m) \\\n\u001b[1;32m      <a href='vscode-notebook-cell:/Users/nikolausraith/Documents/EPFL_Master/MA-3/ADA/2022/Tutorials/05%20-%20Observational%20studies/Observational%20studies%20exercise.ipynb#X34sZmlsZQ%3D%3D?line=4'>5</a>\u001b[0m                     \u001b[39m|\u001b[39m df[\u001b[39m'\u001b[39m\u001b[39mhispan\u001b[39m\u001b[39m'\u001b[39m]\u001b[39m.\u001b[39mastype(\u001b[39mbool\u001b[39m)))\u001b[39m.\u001b[39mastype(\u001b[39mbool\u001b[39m)\n\u001b[1;32m      <a href='vscode-notebook-cell:/Users/nikolausraith/Documents/EPFL_Master/MA-3/ADA/2022/Tutorials/05%20-%20Observational%20studies/Observational%20studies%20exercise.ipynb#X34sZmlsZQ%3D%3D?line=6'>7</a>\u001b[0m df_group \u001b[39m=\u001b[39m df\u001b[39m.\u001b[39mgroupby(df\u001b[39m.\u001b[39mtreat)[[\u001b[39m'\u001b[39m\u001b[39mwhite\u001b[39m\u001b[39m'\u001b[39m, \u001b[39m'\u001b[39m\u001b[39mblack\u001b[39m\u001b[39m'\u001b[39m, \u001b[39m'\u001b[39m\u001b[39mhispan\u001b[39m\u001b[39m'\u001b[39m]]\u001b[39m.\u001b[39msum()\n\u001b[0;32m----> <a href='vscode-notebook-cell:/Users/nikolausraith/Documents/EPFL_Master/MA-3/ADA/2022/Tutorials/05%20-%20Observational%20studies/Observational%20studies%20exercise.ipynb#X34sZmlsZQ%3D%3D?line=7'>8</a>\u001b[0m df_group \u001b[39m=\u001b[39m df\u001b[39m.\u001b[39;49mdiv(df\u001b[39m.\u001b[39;49msum(axis\u001b[39m=\u001b[39;49m\u001b[39m1\u001b[39;49m), axis\u001b[39m=\u001b[39;49m\u001b[39m0\u001b[39;49m)\n\u001b[1;32m     <a href='vscode-notebook-cell:/Users/nikolausraith/Documents/EPFL_Master/MA-3/ADA/2022/Tutorials/05%20-%20Observational%20studies/Observational%20studies%20exercise.ipynb#X34sZmlsZQ%3D%3D?line=9'>10</a>\u001b[0m \u001b[39m# Plot\u001b[39;00m\n\u001b[1;32m     <a href='vscode-notebook-cell:/Users/nikolausraith/Documents/EPFL_Master/MA-3/ADA/2022/Tutorials/05%20-%20Observational%20studies/Observational%20studies%20exercise.ipynb#X34sZmlsZQ%3D%3D?line=10'>11</a>\u001b[0m pl \u001b[39m=\u001b[39m df_group\u001b[39m.\u001b[39mplot(kind\u001b[39m=\u001b[39m\u001b[39m'\u001b[39m\u001b[39mbar\u001b[39m\u001b[39m'\u001b[39m, figsize\u001b[39m=\u001b[39m[\u001b[39m8\u001b[39m,\u001b[39m4\u001b[39m], rot\u001b[39m=\u001b[39m\u001b[39m0\u001b[39m)\n",
      "File \u001b[0;32m~/opt/anaconda3/envs/ada/lib/python3.8/site-packages/pandas/core/ops/__init__.py:419\u001b[0m, in \u001b[0;36mflex_arith_method_FRAME.<locals>.f\u001b[0;34m(self, other, axis, level, fill_value)\u001b[0m\n\u001b[1;32m    415\u001b[0m \u001b[39mself\u001b[39m, other \u001b[39m=\u001b[39m align_method_FRAME(\u001b[39mself\u001b[39m, other, axis, flex\u001b[39m=\u001b[39m\u001b[39mTrue\u001b[39;00m, level\u001b[39m=\u001b[39mlevel)\n\u001b[1;32m    417\u001b[0m \u001b[39mif\u001b[39;00m \u001b[39misinstance\u001b[39m(other, ABCDataFrame):\n\u001b[1;32m    418\u001b[0m     \u001b[39m# Another DataFrame\u001b[39;00m\n\u001b[0;32m--> 419\u001b[0m     new_data \u001b[39m=\u001b[39m \u001b[39mself\u001b[39;49m\u001b[39m.\u001b[39;49m_combine_frame(other, na_op, fill_value)\n\u001b[1;32m    421\u001b[0m \u001b[39melif\u001b[39;00m \u001b[39misinstance\u001b[39m(other, ABCSeries):\n\u001b[1;32m    422\u001b[0m     new_data \u001b[39m=\u001b[39m \u001b[39mself\u001b[39m\u001b[39m.\u001b[39m_dispatch_frame_op(other, op, axis\u001b[39m=\u001b[39maxis)\n",
      "File \u001b[0;32m~/opt/anaconda3/envs/ada/lib/python3.8/site-packages/pandas/core/frame.py:6065\u001b[0m, in \u001b[0;36mDataFrame._combine_frame\u001b[0;34m(self, other, func, fill_value)\u001b[0m\n\u001b[1;32m   6062\u001b[0m         left, right \u001b[39m=\u001b[39m ops\u001b[39m.\u001b[39mfill_binop(left, right, fill_value)\n\u001b[1;32m   6063\u001b[0m         \u001b[39mreturn\u001b[39;00m func(left, right)\n\u001b[0;32m-> 6065\u001b[0m new_data \u001b[39m=\u001b[39m \u001b[39mself\u001b[39;49m\u001b[39m.\u001b[39;49m_dispatch_frame_op(other, _arith_op)\n\u001b[1;32m   6066\u001b[0m \u001b[39mreturn\u001b[39;00m new_data\n",
      "File \u001b[0;32m~/opt/anaconda3/envs/ada/lib/python3.8/site-packages/pandas/core/frame.py:6018\u001b[0m, in \u001b[0;36mDataFrame._dispatch_frame_op\u001b[0;34m(self, right, func, axis)\u001b[0m\n\u001b[1;32m   6013\u001b[0m     \u001b[39massert\u001b[39;00m \u001b[39mself\u001b[39m\u001b[39m.\u001b[39mcolumns\u001b[39m.\u001b[39mequals(right\u001b[39m.\u001b[39mcolumns)\n\u001b[1;32m   6014\u001b[0m     \u001b[39m# TODO: The previous assertion `assert right._indexed_same(self)`\u001b[39;00m\n\u001b[1;32m   6015\u001b[0m     \u001b[39m#  fails in cases with empty columns reached via\u001b[39;00m\n\u001b[1;32m   6016\u001b[0m     \u001b[39m#  _frame_arith_method_with_reindex\u001b[39;00m\n\u001b[0;32m-> 6018\u001b[0m     bm \u001b[39m=\u001b[39m \u001b[39mself\u001b[39;49m\u001b[39m.\u001b[39;49m_mgr\u001b[39m.\u001b[39;49moperate_blockwise(right\u001b[39m.\u001b[39;49m_mgr, array_op)\n\u001b[1;32m   6019\u001b[0m     \u001b[39mreturn\u001b[39;00m \u001b[39mtype\u001b[39m(\u001b[39mself\u001b[39m)(bm)\n\u001b[1;32m   6021\u001b[0m \u001b[39melif\u001b[39;00m \u001b[39misinstance\u001b[39m(right, Series) \u001b[39mand\u001b[39;00m axis \u001b[39m==\u001b[39m \u001b[39m1\u001b[39m:\n\u001b[1;32m   6022\u001b[0m     \u001b[39m# axis=1 means we want to operate row-by-row\u001b[39;00m\n",
      "File \u001b[0;32m~/opt/anaconda3/envs/ada/lib/python3.8/site-packages/pandas/core/internals/managers.py:374\u001b[0m, in \u001b[0;36mBlockManager.operate_blockwise\u001b[0;34m(self, other, array_op)\u001b[0m\n\u001b[1;32m    370\u001b[0m \u001b[39mdef\u001b[39;00m \u001b[39moperate_blockwise\u001b[39m(\u001b[39mself\u001b[39m, other: \u001b[39m\"\u001b[39m\u001b[39mBlockManager\u001b[39m\u001b[39m\"\u001b[39m, array_op) \u001b[39m-\u001b[39m\u001b[39m>\u001b[39m \u001b[39m\"\u001b[39m\u001b[39mBlockManager\u001b[39m\u001b[39m\"\u001b[39m:\n\u001b[1;32m    371\u001b[0m     \u001b[39m\"\"\"\u001b[39;00m\n\u001b[1;32m    372\u001b[0m \u001b[39m    Apply array_op blockwise with another (aligned) BlockManager.\u001b[39;00m\n\u001b[1;32m    373\u001b[0m \u001b[39m    \"\"\"\u001b[39;00m\n\u001b[0;32m--> 374\u001b[0m     \u001b[39mreturn\u001b[39;00m operate_blockwise(\u001b[39mself\u001b[39;49m, other, array_op)\n",
      "File \u001b[0;32m~/opt/anaconda3/envs/ada/lib/python3.8/site-packages/pandas/core/internals/ops.py:54\u001b[0m, in \u001b[0;36moperate_blockwise\u001b[0;34m(left, right, array_op)\u001b[0m\n\u001b[1;32m     52\u001b[0m res_blks: List[\u001b[39m\"\u001b[39m\u001b[39mBlock\u001b[39m\u001b[39m\"\u001b[39m] \u001b[39m=\u001b[39m []\n\u001b[1;32m     53\u001b[0m \u001b[39mfor\u001b[39;00m lvals, rvals, locs, left_ea, right_ea, rblk \u001b[39min\u001b[39;00m _iter_block_pairs(left, right):\n\u001b[0;32m---> 54\u001b[0m     res_values \u001b[39m=\u001b[39m array_op(lvals, rvals)\n\u001b[1;32m     55\u001b[0m     \u001b[39mif\u001b[39;00m left_ea \u001b[39mand\u001b[39;00m \u001b[39mnot\u001b[39;00m right_ea \u001b[39mand\u001b[39;00m \u001b[39mhasattr\u001b[39m(res_values, \u001b[39m\"\u001b[39m\u001b[39mreshape\u001b[39m\u001b[39m\"\u001b[39m):\n\u001b[1;32m     56\u001b[0m         res_values \u001b[39m=\u001b[39m res_values\u001b[39m.\u001b[39mreshape(\u001b[39m1\u001b[39m, \u001b[39m-\u001b[39m\u001b[39m1\u001b[39m)\n",
      "File \u001b[0;32m~/opt/anaconda3/envs/ada/lib/python3.8/site-packages/pandas/core/ops/array_ops.py:189\u001b[0m, in \u001b[0;36marithmetic_op\u001b[0;34m(left, right, op)\u001b[0m\n\u001b[1;32m    187\u001b[0m \u001b[39melse\u001b[39;00m:\n\u001b[1;32m    188\u001b[0m     \u001b[39mwith\u001b[39;00m np\u001b[39m.\u001b[39merrstate(\u001b[39mall\u001b[39m\u001b[39m=\u001b[39m\u001b[39m\"\u001b[39m\u001b[39mignore\u001b[39m\u001b[39m\"\u001b[39m):\n\u001b[0;32m--> 189\u001b[0m         res_values \u001b[39m=\u001b[39m _na_arithmetic_op(lvalues, rvalues, op)\n\u001b[1;32m    191\u001b[0m \u001b[39mreturn\u001b[39;00m res_values\n",
      "File \u001b[0;32m~/opt/anaconda3/envs/ada/lib/python3.8/site-packages/pandas/core/ops/array_ops.py:149\u001b[0m, in \u001b[0;36m_na_arithmetic_op\u001b[0;34m(left, right, op, is_cmp)\u001b[0m\n\u001b[1;32m    144\u001b[0m     \u001b[39mif\u001b[39;00m is_cmp:\n\u001b[1;32m    145\u001b[0m         \u001b[39m# numexpr failed on comparison op, e.g. ndarray[float] > datetime\u001b[39;00m\n\u001b[1;32m    146\u001b[0m         \u001b[39m#  In this case we do not fall back to the masked op, as that\u001b[39;00m\n\u001b[1;32m    147\u001b[0m         \u001b[39m#  will handle complex numbers incorrectly, see GH#32047\u001b[39;00m\n\u001b[1;32m    148\u001b[0m         \u001b[39mraise\u001b[39;00m\n\u001b[0;32m--> 149\u001b[0m     result \u001b[39m=\u001b[39m _masked_arith_op(left, right, op)\n\u001b[1;32m    151\u001b[0m \u001b[39mif\u001b[39;00m is_cmp \u001b[39mand\u001b[39;00m (is_scalar(result) \u001b[39mor\u001b[39;00m result \u001b[39mis\u001b[39;00m \u001b[39mNotImplemented\u001b[39m):\n\u001b[1;32m    152\u001b[0m     \u001b[39m# numpy returned a scalar instead of operating element-wise\u001b[39;00m\n\u001b[1;32m    153\u001b[0m     \u001b[39m# e.g. numeric array vs str\u001b[39;00m\n\u001b[1;32m    154\u001b[0m     \u001b[39mreturn\u001b[39;00m invalid_comparison(left, right, op)\n",
      "File \u001b[0;32m~/opt/anaconda3/envs/ada/lib/python3.8/site-packages/pandas/core/ops/array_ops.py:91\u001b[0m, in \u001b[0;36m_masked_arith_op\u001b[0;34m(x, y, op)\u001b[0m\n\u001b[1;32m     89\u001b[0m     \u001b[39mif\u001b[39;00m mask\u001b[39m.\u001b[39many():\n\u001b[1;32m     90\u001b[0m         \u001b[39mwith\u001b[39;00m np\u001b[39m.\u001b[39merrstate(\u001b[39mall\u001b[39m\u001b[39m=\u001b[39m\u001b[39m\"\u001b[39m\u001b[39mignore\u001b[39m\u001b[39m\"\u001b[39m):\n\u001b[0;32m---> 91\u001b[0m             result[mask] \u001b[39m=\u001b[39m op(xrav[mask], yrav[mask])\n\u001b[1;32m     93\u001b[0m \u001b[39melse\u001b[39;00m:\n\u001b[1;32m     94\u001b[0m     \u001b[39mif\u001b[39;00m \u001b[39mnot\u001b[39;00m is_scalar(y):\n",
      "\u001b[0;31mTypeError\u001b[0m: unsupported operand type(s) for /: 'str' and 'float'"
     ]
    }
   ],
   "source": [
    "# Ethnicity\n",
    "\n",
    "# We define who is white. It is all the people for which black == 0 and hisp == 0\n",
    "df['white'] = (~(df['black'].astype(bool) \\\n",
    "                    | df['hispan'].astype(bool))).astype(bool)\n",
    "\n",
    "df_group = df.groupby(df.treat)[['white', 'black', 'hispan']].sum()\n",
    "df_group = df.div(df.sum(axis=1), axis=0)\n",
    "\n",
    "# Plot\n",
    "pl = df_group.plot(kind='bar', figsize=[8,4], rot=0)\n",
    "pl.set_title('race')\n",
    "pl.set_ylabel('participants')\n",
    "pl.set_xlabel('group')\n",
    "plt.show()"
   ]
  },
  {
   "cell_type": "code",
   "execution_count": 18,
   "metadata": {},
   "outputs": [
    {
     "data": {
      "image/png": "[encoded data removed]",
      "text/plain": [
       "<Figure size 700x500 with 1 Axes>"
      ]
     },
     "metadata": {},
     "output_type": "display_data"
    }
   ],
   "source": [
    "# Marriage\n",
    "\n",
    "group = df.groupby(['treat', 'married'])['married'].count()\n",
    "group = group.unstack()\n",
    "group = group.div(group.sum(axis=1), axis=0)\n",
    "pl = group.plot(kind='bar', figsize=[7,5], rot=0)\n",
    "pl.set_title('Married')\n",
    "pl.set_ylabel('Participants')\n",
    "pl.set_xlabel('Group')\n",
    "plt.show()\n",
    "\n",
    "# We can see that the percentage of unmarried people in the treated group is much higher than in the control group\n",
    "# This would mean that the treated group is targeting mostly single people."
   ]
  },
  {
   "cell_type": "markdown",
   "metadata": {},
   "source": [
    "## 3. A propensity score model\n",
    "\n",
    "Use logistic regression to estimate propensity scores for all points in the dataset.\n",
    "You may use `statsmodels` to fit the logistic regression model and apply it to each data point to obtain propensity scores.\n",
    "\n",
    "Recall that the propensity score of a data point represents its probability of receiving the treatment, based on its pre-treatment features (in this case, age, education, pre-treatment income, etc.).\n",
    "To brush up on propensity scores, you may read chapter 3.3 of the above-cited book by Rosenbaum or [this article](https://www.ncbi.nlm.nih.gov/pmc/articles/PMC3144483/pdf/hmbr46-399.pdf).\n",
    "\n",
    "Note: you do not need a train/test split here. Train and apply the model on the entire dataset. If you're wondering why this is the right thing to do in this situation, recall that the propensity score model is not used in order to make predictions about unseen data. Its sole purpose is to balance the dataset across treatment groups.\n",
    "(See p. 74 of Rosenbaum's book for an explanation why slight overfitting is even good for propensity scores.\n",
    "If you want even more information, read [this article](https://www.ncbi.nlm.nih.gov/pmc/articles/PMC3144483/pdf/hmbr46-399.pdf).)"
   ]
  },
  {
   "cell_type": "code",
   "execution_count": 21,
   "metadata": {
    "collapsed": true,
    "jupyter": {
     "outputs_hidden": true
    }
   },
   "outputs": [
    {
     "name": "stdout",
     "output_type": "stream",
     "text": [
      "Optimization terminated successfully.\n",
      "         Current function value: 0.397267\n",
      "         Iterations 7\n",
      "                           Logit Regression Results                           \n",
      "==============================================================================\n",
      "Dep. Variable:                  treat   No. Observations:                  614\n",
      "Model:                          Logit   Df Residuals:                      605\n",
      "Method:                           MLE   Df Model:                            8\n",
      "Date:                Tue, 10 Jan 2023   Pseudo R-squ.:                  0.3508\n",
      "Time:                        21:57:06   Log-Likelihood:                -243.92\n",
      "converged:                       True   LL-Null:                       -375.75\n",
      "Covariance Type:            nonrobust   LLR p-value:                 2.194e-52\n",
      "====================================================================================\n",
      "                       coef    std err          z      P>|z|      [0.025      0.975]\n",
      "------------------------------------------------------------------------------------\n",
      "Intercept           -2.8509      0.350     -8.147      0.000      -3.537      -2.165\n",
      "C(black)[T.1]        3.0654      0.287     10.698      0.000       2.504       3.627\n",
      "C(hispan)[T.1]       0.9836      0.426      2.311      0.021       0.149       1.818\n",
      "C(married)[T.1]     -0.8321      0.290     -2.866      0.004      -1.401      -0.263\n",
      "C(nodegree)[T.1]     0.7073      0.338      2.095      0.036       0.045       1.369\n",
      "age                  0.1559      0.134      1.162      0.245      -0.107       0.419\n",
      "educ                 0.4240      0.171      2.477      0.013       0.088       0.759\n",
      "re74                -0.4650      0.186     -2.497      0.013      -0.830      -0.100\n",
      "re75                 0.1761      0.153      1.153      0.249      -0.123       0.476\n",
      "====================================================================================\n"
     ]
    },
    {
     "data": {
      "text/html": [
       "<div>\n",
       "<style scoped>\n",
       "    .dataframe tbody tr th:only-of-type {\n",
       "        vertical-align: middle;\n",
       "    }\n",
       "\n",
       "    .dataframe tbody tr th {\n",
       "        vertical-align: top;\n",
       "    }\n",
       "\n",
       "    .dataframe thead th {\n",
       "        text-align: right;\n",
       "    }\n",
       "</style>\n",
       "<table border=\"1\" class=\"dataframe\">\n",
       "  <thead>\n",
       "    <tr style=\"text-align: right;\">\n",
       "      <th></th>\n",
       "      <th>id</th>\n",
       "      <th>treat</th>\n",
       "      <th>age</th>\n",
       "      <th>educ</th>\n",
       "      <th>black</th>\n",
       "      <th>hispan</th>\n",
       "      <th>married</th>\n",
       "      <th>nodegree</th>\n",
       "      <th>re74</th>\n",
       "      <th>re75</th>\n",
       "      <th>re78</th>\n",
       "      <th>Propensity_score</th>\n",
       "    </tr>\n",
       "  </thead>\n",
       "  <tbody>\n",
       "    <tr>\n",
       "      <th>0</th>\n",
       "      <td>NSW1</td>\n",
       "      <td>1</td>\n",
       "      <td>0.975268</td>\n",
       "      <td>0.278227</td>\n",
       "      <td>1</td>\n",
       "      <td>0</td>\n",
       "      <td>1</td>\n",
       "      <td>1</td>\n",
       "      <td>-0.703546</td>\n",
       "      <td>-0.662971</td>\n",
       "      <td>9930.0460</td>\n",
       "      <td>0.638770</td>\n",
       "    </tr>\n",
       "    <tr>\n",
       "      <th>1</th>\n",
       "      <td>NSW2</td>\n",
       "      <td>1</td>\n",
       "      <td>-0.542768</td>\n",
       "      <td>-0.482714</td>\n",
       "      <td>0</td>\n",
       "      <td>1</td>\n",
       "      <td>0</td>\n",
       "      <td>1</td>\n",
       "      <td>-0.703546</td>\n",
       "      <td>-0.662971</td>\n",
       "      <td>3595.8940</td>\n",
       "      <td>0.224634</td>\n",
       "    </tr>\n",
       "    <tr>\n",
       "      <th>2</th>\n",
       "      <td>NSW3</td>\n",
       "      <td>1</td>\n",
       "      <td>0.266851</td>\n",
       "      <td>0.658697</td>\n",
       "      <td>1</td>\n",
       "      <td>0</td>\n",
       "      <td>0</td>\n",
       "      <td>0</td>\n",
       "      <td>-0.703546</td>\n",
       "      <td>-0.662971</td>\n",
       "      <td>24909.4500</td>\n",
       "      <td>0.678244</td>\n",
       "    </tr>\n",
       "    <tr>\n",
       "      <th>3</th>\n",
       "      <td>NSW4</td>\n",
       "      <td>1</td>\n",
       "      <td>-0.036756</td>\n",
       "      <td>0.278227</td>\n",
       "      <td>1</td>\n",
       "      <td>0</td>\n",
       "      <td>0</td>\n",
       "      <td>1</td>\n",
       "      <td>-0.703546</td>\n",
       "      <td>-0.662971</td>\n",
       "      <td>7506.1460</td>\n",
       "      <td>0.776324</td>\n",
       "    </tr>\n",
       "    <tr>\n",
       "      <th>4</th>\n",
       "      <td>NSW5</td>\n",
       "      <td>1</td>\n",
       "      <td>0.570459</td>\n",
       "      <td>-0.863185</td>\n",
       "      <td>1</td>\n",
       "      <td>0</td>\n",
       "      <td>0</td>\n",
       "      <td>1</td>\n",
       "      <td>-0.703546</td>\n",
       "      <td>-0.662971</td>\n",
       "      <td>289.7899</td>\n",
       "      <td>0.701639</td>\n",
       "    </tr>\n",
       "    <tr>\n",
       "      <th>...</th>\n",
       "      <td>...</td>\n",
       "      <td>...</td>\n",
       "      <td>...</td>\n",
       "      <td>...</td>\n",
       "      <td>...</td>\n",
       "      <td>...</td>\n",
       "      <td>...</td>\n",
       "      <td>...</td>\n",
       "      <td>...</td>\n",
       "      <td>...</td>\n",
       "      <td>...</td>\n",
       "      <td>...</td>\n",
       "    </tr>\n",
       "    <tr>\n",
       "      <th>609</th>\n",
       "      <td>PSID425</td>\n",
       "      <td>0</td>\n",
       "      <td>-0.947578</td>\n",
       "      <td>0.278227</td>\n",
       "      <td>0</td>\n",
       "      <td>0</td>\n",
       "      <td>0</td>\n",
       "      <td>1</td>\n",
       "      <td>-0.703546</td>\n",
       "      <td>-0.662971</td>\n",
       "      <td>10150.5000</td>\n",
       "      <td>0.123144</td>\n",
       "    </tr>\n",
       "    <tr>\n",
       "      <th>610</th>\n",
       "      <td>PSID426</td>\n",
       "      <td>0</td>\n",
       "      <td>-0.340363</td>\n",
       "      <td>-3.526478</td>\n",
       "      <td>0</td>\n",
       "      <td>1</td>\n",
       "      <td>1</td>\n",
       "      <td>1</td>\n",
       "      <td>-0.703546</td>\n",
       "      <td>-0.662971</td>\n",
       "      <td>19464.6100</td>\n",
       "      <td>0.034560</td>\n",
       "    </tr>\n",
       "    <tr>\n",
       "      <th>611</th>\n",
       "      <td>PSID427</td>\n",
       "      <td>0</td>\n",
       "      <td>-0.643970</td>\n",
       "      <td>2.941520</td>\n",
       "      <td>0</td>\n",
       "      <td>0</td>\n",
       "      <td>0</td>\n",
       "      <td>0</td>\n",
       "      <td>-0.703546</td>\n",
       "      <td>-0.662971</td>\n",
       "      <td>0.0000</td>\n",
       "      <td>0.183351</td>\n",
       "    </tr>\n",
       "    <tr>\n",
       "      <th>612</th>\n",
       "      <td>PSID428</td>\n",
       "      <td>0</td>\n",
       "      <td>0.469256</td>\n",
       "      <td>-2.004596</td>\n",
       "      <td>1</td>\n",
       "      <td>0</td>\n",
       "      <td>1</td>\n",
       "      <td>1</td>\n",
       "      <td>-0.703546</td>\n",
       "      <td>-0.662971</td>\n",
       "      <td>187.6713</td>\n",
       "      <td>0.383032</td>\n",
       "    </tr>\n",
       "    <tr>\n",
       "      <th>613</th>\n",
       "      <td>PSID429</td>\n",
       "      <td>0</td>\n",
       "      <td>-1.149982</td>\n",
       "      <td>-0.482714</td>\n",
       "      <td>0</td>\n",
       "      <td>0</td>\n",
       "      <td>0</td>\n",
       "      <td>1</td>\n",
       "      <td>-0.703546</td>\n",
       "      <td>-0.662971</td>\n",
       "      <td>1495.4590</td>\n",
       "      <td>0.089712</td>\n",
       "    </tr>\n",
       "  </tbody>\n",
       "</table>\n",
       "<p>614 rows × 12 columns</p>\n",
       "</div>"
      ],
      "text/plain": [
       "          id  treat       age      educ  black  hispan  married  nodegree  \\\n",
       "0       NSW1      1  0.975268  0.278227      1       0        1         1   \n",
       "1       NSW2      1 -0.542768 -0.482714      0       1        0         1   \n",
       "2       NSW3      1  0.266851  0.658697      1       0        0         0   \n",
       "3       NSW4      1 -0.036756  0.278227      1       0        0         1   \n",
       "4       NSW5      1  0.570459 -0.863185      1       0        0         1   \n",
       "..       ...    ...       ...       ...    ...     ...      ...       ...   \n",
       "609  PSID425      0 -0.947578  0.278227      0       0        0         1   \n",
       "610  PSID426      0 -0.340363 -3.526478      0       1        1         1   \n",
       "611  PSID427      0 -0.643970  2.941520      0       0        0         0   \n",
       "612  PSID428      0  0.469256 -2.004596      1       0        1         1   \n",
       "613  PSID429      0 -1.149982 -0.482714      0       0        0         1   \n",
       "\n",
       "         re74      re75        re78  Propensity_score  \n",
       "0   -0.703546 -0.662971   9930.0460          0.638770  \n",
       "1   -0.703546 -0.662971   3595.8940          0.224634  \n",
       "2   -0.703546 -0.662971  24909.4500          0.678244  \n",
       "3   -0.703546 -0.662971   7506.1460          0.776324  \n",
       "4   -0.703546 -0.662971    289.7899          0.701639  \n",
       "..        ...       ...         ...               ...  \n",
       "609 -0.703546 -0.662971  10150.5000          0.123144  \n",
       "610 -0.703546 -0.662971  19464.6100          0.034560  \n",
       "611 -0.703546 -0.662971      0.0000          0.183351  \n",
       "612 -0.703546 -0.662971    187.6713          0.383032  \n",
       "613 -0.703546 -0.662971   1495.4590          0.089712  \n",
       "\n",
       "[614 rows x 12 columns]"
      ]
     },
     "execution_count": 21,
     "metadata": {},
     "output_type": "execute_result"
    }
   ],
   "source": [
    "# The propensity score is the probability of being chosen in the treated dataset given the covariates observed\n",
    "\n",
    "# Standardisation of the features\n",
    "df['age'] = (df['age'] - df['age'].mean())/df['age'].std()\n",
    "df['educ'] = (df['educ'] - df['educ'].mean())/df['educ'].std()\n",
    "df['re74'] = (df['re74'] - df['re74'].mean())/df['re74'].std()\n",
    "df['re75'] = (df['re75'] - df['re75'].mean())/df['re75'].std()\n",
    "\n",
    "# Performing a logistic regression with the features of interest\n",
    "mod = smf.logit(formula='treat ~  age + educ + C(black) + C(hispan)  + C(married) + C(nodegree) + \\\n",
    "        +re74 + re75', data=df)\n",
    "\n",
    "# Fitting the model\n",
    "res = mod.fit()\n",
    "\n",
    "# Extracting the estimated propensity scores\n",
    "df['Propensity_score'] = res.predict()\n",
    "\n",
    "print(res.summary())\n",
    "df"
   ]
  },
  {
   "cell_type": "markdown",
   "metadata": {},
   "source": [
    "## 4. Balancing the dataset via matching\n",
    "\n",
    "Use the propensity scores to match each data point from the treated group with exactly one data point from the control group, while ensuring that each data point from the control group is matched with at most one data point from the treated group.\n",
    "(Hint: you may explore the `networkx` package in Python for predefined matching functions.)\n",
    "\n",
    "Your matching should maximize the similarity between matched subjects, as captured by their propensity scores.\n",
    "In other words, the sum (over all matched pairs) of absolute propensity-score differences between the two matched subjects should be minimized.\n",
    "\n",
    "This is how networkx library can help you do this. Each possible pair of (treated_person, control_person) is characterized by a similarity. This is how we can initialize a graph, and add an edge for one possible pair. We then need to add an edge for each possible pair.\n",
    "    - G = nx.Graph()\n",
    "    - G.add_weighted_edges_from([(control_person, treated_person, similarity)])\n",
    "Optimal matching is then found with:\n",
    "    - matching = nx.max_weight_matching(G)\n",
    "\n",
    "After matching, you have as many treated as you have control subjects.\n",
    "Compare the outcomes (`re78`) between the two groups (treated and control).\n",
    "\n",
    "Also, compare again the feature-value distributions between the two groups, as you've done in part 2 above, but now only for the matched subjects.\n",
    "What do you observe?\n",
    "Are you closer to being able to draw valid conclusions now than you were before?"
   ]
  },
  {
   "cell_type": "code",
   "execution_count": 22,
   "metadata": {
    "collapsed": true,
    "jupyter": {
     "outputs_hidden": true
    }
   },
   "outputs": [],
   "source": [
    "# Function to compute similarity\n",
    "def get_similarity(propensity_score1, propensity_score2):\n",
    "    '''Calculate similarity for instances with given propensity scores'''\n",
    "    return 1-np.abs(propensity_score1-propensity_score2) ## difference should be minimised and 1-abs(difference) should be maximised (=similarity)"
   ]
  },
  {
   "cell_type": "code",
   "execution_count": 24,
   "metadata": {},
   "outputs": [],
   "source": [
    "# Separate the treatment and control groups\n",
    "treatment_df = df[df['treat'] == 1]\n",
    "control_df = df[df['treat'] == 0]\n",
    "\n",
    "# Create an empty undirected graph\n",
    "G = nx.Graph()\n",
    "\n",
    "# Loop through all the pairs of instances\n",
    "for control_id, control_row in control_df.iterrows():\n",
    "    for treatment_id, treatment_row in treatment_df.iterrows():\n",
    "\n",
    "        # Calculate the similarity \n",
    "        similarity = get_similarity(control_row['Propensity_score'],\n",
    "                                    treatment_row['Propensity_score'])\n",
    "\n",
    "        # Add an edge between the two instances weighted by the similarity between them\n",
    "        G.add_weighted_edges_from([(control_id, treatment_id, similarity)])\n",
    "\n",
    "# Generate and return the maximum weight matching on the generated graph\n",
    "matching = nx.max_weight_matching(G)\n"
   ]
  },
  {
   "cell_type": "markdown",
   "metadata": {},
   "source": [
    "## 5. Balancing the groups further\n",
    "\n",
    "Based on your comparison of feature-value distributions from part 4, are you fully satisfied with your matching?\n",
    "Would you say your dataset is sufficiently balanced?\n",
    "If not, in what ways could the \"balanced\" dataset you have obtained still not allow you to draw valid conclusions?\n",
    "\n",
    "Improve your matching by explicitly making sure that you match only subjects that have the same value for the problematic feature.\n",
    "Argue with numbers and plots that the two groups (treated and control) are now better balanced than after part 4.\n"
   ]
  },
  {
   "cell_type": "code",
   "execution_count": 28,
   "metadata": {
    "collapsed": true,
    "jupyter": {
     "outputs_hidden": true
    }
   },
   "outputs": [],
   "source": [
    "treatment_df = df[df['treat'] == 1]\n",
    "control_df = df[df['treat'] == 0]\n",
    "\n",
    "\n",
    "G = nx.Graph()\n",
    "\n",
    "for control_id, control_row in control_df.iterrows():\n",
    "    for treatment_id, treatment_row in treatment_df.iterrows():\n",
    "\n",
    "        # Adds an edge only if the individuals have the same race\n",
    "        if (control_row['black'] == treatment_row['black'])\\\n",
    "            and (control_row['hispan'] == treatment_row['hispan']): ## have we chosen to match only people with the same race?\n",
    "            similarity = get_similarity(control_row['Propensity_score'],\n",
    "                                        treatment_row['Propensity_score'])\n",
    "\n",
    "            G.add_weighted_edges_from([(control_id, treatment_id, similarity)])\n",
    "\n",
    "matching = nx.max_weight_matching(G)"
   ]
  },
  {
   "cell_type": "code",
   "execution_count": 29,
   "metadata": {},
   "outputs": [],
   "source": [
    "matched = [i[0] for i in list(matching)] + [i[1] for i in list(matching)]"
   ]
  },
  {
   "cell_type": "code",
   "execution_count": 30,
   "metadata": {},
   "outputs": [
    {
     "data": {
      "text/html": [
       "<div>\n",
       "<style scoped>\n",
       "    .dataframe tbody tr th:only-of-type {\n",
       "        vertical-align: middle;\n",
       "    }\n",
       "\n",
       "    .dataframe tbody tr th {\n",
       "        vertical-align: top;\n",
       "    }\n",
       "\n",
       "    .dataframe thead th {\n",
       "        text-align: right;\n",
       "    }\n",
       "</style>\n",
       "<table border=\"1\" class=\"dataframe\">\n",
       "  <thead>\n",
       "    <tr style=\"text-align: right;\">\n",
       "      <th></th>\n",
       "      <th>id</th>\n",
       "      <th>treat</th>\n",
       "      <th>age</th>\n",
       "      <th>educ</th>\n",
       "      <th>black</th>\n",
       "      <th>hispan</th>\n",
       "      <th>married</th>\n",
       "      <th>nodegree</th>\n",
       "      <th>re74</th>\n",
       "      <th>re75</th>\n",
       "      <th>re78</th>\n",
       "      <th>Propensity_score</th>\n",
       "    </tr>\n",
       "  </thead>\n",
       "  <tbody>\n",
       "    <tr>\n",
       "      <th>14</th>\n",
       "      <td>NSW15</td>\n",
       "      <td>1</td>\n",
       "      <td>-1.048780</td>\n",
       "      <td>-1.243655</td>\n",
       "      <td>1</td>\n",
       "      <td>0</td>\n",
       "      <td>0</td>\n",
       "      <td>1</td>\n",
       "      <td>-0.703546</td>\n",
       "      <td>-0.662971</td>\n",
       "      <td>3023.879</td>\n",
       "      <td>0.608586</td>\n",
       "    </tr>\n",
       "    <tr>\n",
       "      <th>341</th>\n",
       "      <td>PSID157</td>\n",
       "      <td>0</td>\n",
       "      <td>-1.048780</td>\n",
       "      <td>-1.243655</td>\n",
       "      <td>1</td>\n",
       "      <td>0</td>\n",
       "      <td>0</td>\n",
       "      <td>1</td>\n",
       "      <td>-0.540827</td>\n",
       "      <td>0.030738</td>\n",
       "      <td>1613.677</td>\n",
       "      <td>0.619613</td>\n",
       "    </tr>\n",
       "    <tr>\n",
       "      <th>1</th>\n",
       "      <td>NSW2</td>\n",
       "      <td>1</td>\n",
       "      <td>-0.542768</td>\n",
       "      <td>-0.482714</td>\n",
       "      <td>0</td>\n",
       "      <td>1</td>\n",
       "      <td>0</td>\n",
       "      <td>1</td>\n",
       "      <td>-0.703546</td>\n",
       "      <td>-0.662971</td>\n",
       "      <td>3595.894</td>\n",
       "      <td>0.224634</td>\n",
       "    </tr>\n",
       "    <tr>\n",
       "      <th>145</th>\n",
       "      <td>NSW146</td>\n",
       "      <td>1</td>\n",
       "      <td>-0.846375</td>\n",
       "      <td>0.278227</td>\n",
       "      <td>1</td>\n",
       "      <td>0</td>\n",
       "      <td>0</td>\n",
       "      <td>1</td>\n",
       "      <td>-0.347720</td>\n",
       "      <td>0.130576</td>\n",
       "      <td>4146.603</td>\n",
       "      <td>0.748849</td>\n",
       "    </tr>\n",
       "    <tr>\n",
       "      <th>120</th>\n",
       "      <td>NSW121</td>\n",
       "      <td>1</td>\n",
       "      <td>0.165649</td>\n",
       "      <td>1.419638</td>\n",
       "      <td>1</td>\n",
       "      <td>0</td>\n",
       "      <td>0</td>\n",
       "      <td>0</td>\n",
       "      <td>-0.703546</td>\n",
       "      <td>-0.456739</td>\n",
       "      <td>17814.980</td>\n",
       "      <td>0.748170</td>\n",
       "    </tr>\n",
       "    <tr>\n",
       "      <th>...</th>\n",
       "      <td>...</td>\n",
       "      <td>...</td>\n",
       "      <td>...</td>\n",
       "      <td>...</td>\n",
       "      <td>...</td>\n",
       "      <td>...</td>\n",
       "      <td>...</td>\n",
       "      <td>...</td>\n",
       "      <td>...</td>\n",
       "      <td>...</td>\n",
       "      <td>...</td>\n",
       "      <td>...</td>\n",
       "    </tr>\n",
       "    <tr>\n",
       "      <th>281</th>\n",
       "      <td>PSID97</td>\n",
       "      <td>0</td>\n",
       "      <td>-0.340363</td>\n",
       "      <td>0.658697</td>\n",
       "      <td>1</td>\n",
       "      <td>0</td>\n",
       "      <td>1</td>\n",
       "      <td>0</td>\n",
       "      <td>0.619980</td>\n",
       "      <td>0.639703</td>\n",
       "      <td>0.000</td>\n",
       "      <td>0.361929</td>\n",
       "    </tr>\n",
       "    <tr>\n",
       "      <th>162</th>\n",
       "      <td>NSW163</td>\n",
       "      <td>1</td>\n",
       "      <td>-0.340363</td>\n",
       "      <td>-0.102244</td>\n",
       "      <td>1</td>\n",
       "      <td>0</td>\n",
       "      <td>1</td>\n",
       "      <td>1</td>\n",
       "      <td>1.103071</td>\n",
       "      <td>0.574453</td>\n",
       "      <td>0.000</td>\n",
       "      <td>0.396892</td>\n",
       "    </tr>\n",
       "    <tr>\n",
       "      <th>28</th>\n",
       "      <td>NSW29</td>\n",
       "      <td>1</td>\n",
       "      <td>-1.048780</td>\n",
       "      <td>-0.102244</td>\n",
       "      <td>1</td>\n",
       "      <td>0</td>\n",
       "      <td>0</td>\n",
       "      <td>1</td>\n",
       "      <td>-0.703546</td>\n",
       "      <td>-0.662971</td>\n",
       "      <td>16218.040</td>\n",
       "      <td>0.716120</td>\n",
       "    </tr>\n",
       "    <tr>\n",
       "      <th>293</th>\n",
       "      <td>PSID109</td>\n",
       "      <td>0</td>\n",
       "      <td>-0.643970</td>\n",
       "      <td>1.800109</td>\n",
       "      <td>0</td>\n",
       "      <td>0</td>\n",
       "      <td>1</td>\n",
       "      <td>0</td>\n",
       "      <td>0.369550</td>\n",
       "      <td>0.514216</td>\n",
       "      <td>0.000</td>\n",
       "      <td>0.043048</td>\n",
       "    </tr>\n",
       "    <tr>\n",
       "      <th>372</th>\n",
       "      <td>PSID188</td>\n",
       "      <td>0</td>\n",
       "      <td>-1.048780</td>\n",
       "      <td>-0.102244</td>\n",
       "      <td>0</td>\n",
       "      <td>1</td>\n",
       "      <td>0</td>\n",
       "      <td>1</td>\n",
       "      <td>-0.703546</td>\n",
       "      <td>-0.221865</td>\n",
       "      <td>6918.716</td>\n",
       "      <td>0.253744</td>\n",
       "    </tr>\n",
       "  </tbody>\n",
       "</table>\n",
       "<p>232 rows × 12 columns</p>\n",
       "</div>"
      ],
      "text/plain": [
       "          id  treat       age      educ  black  hispan  married  nodegree  \\\n",
       "14     NSW15      1 -1.048780 -1.243655      1       0        0         1   \n",
       "341  PSID157      0 -1.048780 -1.243655      1       0        0         1   \n",
       "1       NSW2      1 -0.542768 -0.482714      0       1        0         1   \n",
       "145   NSW146      1 -0.846375  0.278227      1       0        0         1   \n",
       "120   NSW121      1  0.165649  1.419638      1       0        0         0   \n",
       "..       ...    ...       ...       ...    ...     ...      ...       ...   \n",
       "281   PSID97      0 -0.340363  0.658697      1       0        1         0   \n",
       "162   NSW163      1 -0.340363 -0.102244      1       0        1         1   \n",
       "28     NSW29      1 -1.048780 -0.102244      1       0        0         1   \n",
       "293  PSID109      0 -0.643970  1.800109      0       0        1         0   \n",
       "372  PSID188      0 -1.048780 -0.102244      0       1        0         1   \n",
       "\n",
       "         re74      re75       re78  Propensity_score  \n",
       "14  -0.703546 -0.662971   3023.879          0.608586  \n",
       "341 -0.540827  0.030738   1613.677          0.619613  \n",
       "1   -0.703546 -0.662971   3595.894          0.224634  \n",
       "145 -0.347720  0.130576   4146.603          0.748849  \n",
       "120 -0.703546 -0.456739  17814.980          0.748170  \n",
       "..        ...       ...        ...               ...  \n",
       "281  0.619980  0.639703      0.000          0.361929  \n",
       "162  1.103071  0.574453      0.000          0.396892  \n",
       "28  -0.703546 -0.662971  16218.040          0.716120  \n",
       "293  0.369550  0.514216      0.000          0.043048  \n",
       "372 -0.703546 -0.221865   6918.716          0.253744  \n",
       "\n",
       "[232 rows x 12 columns]"
      ]
     },
     "execution_count": 30,
     "metadata": {},
     "output_type": "execute_result"
    }
   ],
   "source": [
    "balanced_df_all = df.iloc[matched]\n",
    "balanced_df_all"
   ]
  },
  {
   "cell_type": "markdown",
   "metadata": {},
   "source": [
    "## 6. A less naive analysis\n",
    "\n",
    "Compare the outcomes (`re78`) between treated and control subjects, as you've done in part 1, but now only for the matched dataset you've obtained from part 5.\n",
    "What do you conclude about the effectiveness of the job training program?"
   ]
  },
  {
   "cell_type": "code",
   "execution_count": 31,
   "metadata": {
    "collapsed": true,
    "jupyter": {
     "outputs_hidden": true
    }
   },
   "outputs": [],
   "source": [
    "treated = balanced_df_all.loc[balanced_df_all['treat'] == 1] #People that attained the program\n",
    "control = balanced_df_all.loc[balanced_df_all['treat'] == 0] #People that didn't attain the program"
   ]
  },
  {
   "cell_type": "code",
   "execution_count": 32,
   "metadata": {},
   "outputs": [
    {
     "data": {
      "text/plain": [
       "count      116.000000\n",
       "mean      6375.738003\n",
       "std       6670.986821\n",
       "min          0.000000\n",
       "25%        758.102600\n",
       "50%       4648.736000\n",
       "75%      10160.440000\n",
       "max      36646.950000\n",
       "Name: re78, dtype: float64"
      ]
     },
     "execution_count": 32,
     "metadata": {},
     "output_type": "execute_result"
    }
   ],
   "source": [
    "treated.re78.describe()"
   ]
  },
  {
   "cell_type": "code",
   "execution_count": 33,
   "metadata": {},
   "outputs": [
    {
     "data": {
      "text/plain": [
       "count      116.000000\n",
       "mean      5095.456025\n",
       "std       6047.014862\n",
       "min          0.000000\n",
       "25%          0.000000\n",
       "50%       2256.488500\n",
       "75%       8942.092750\n",
       "max      20243.380000\n",
       "Name: re78, dtype: float64"
      ]
     },
     "execution_count": 33,
     "metadata": {},
     "output_type": "execute_result"
    }
   ],
   "source": [
    "control.re78.describe()"
   ]
  },
  {
   "cell_type": "code",
   "execution_count": null,
   "metadata": {},
   "outputs": [],
   "source": [
    "# We can see that after the matching performed we have:\n",
    "# The same population size for control and treated group\n",
    "# The mean is higher in the treated group"
   ]
  },
  {
   "cell_type": "code",
   "execution_count": 34,
   "metadata": {},
   "outputs": [
    {
     "data": {
      "image/png": "[encoded data removed]",
      "text/plain": [
       "<Figure size 640x480 with 1 Axes>"
      ]
     },
     "metadata": {},
     "output_type": "display_data"
    }
   ],
   "source": [
    "ax = sns.histplot(treated['re78'], kde=True, stat='density', color='blue', label='treated');\n",
    "ax = sns.histplot(control['re78'], kde=True, stat='density', color='orange', label='control')\n",
    "ax.set(title='Income distribution comparison in 1978, after matching',xlabel='Income 1978', ylabel='Income density')\n",
    "plt.legend()\n",
    "plt.show()\n",
    "\n",
    "# Final conclusion: after the propensity score matching, the results drastically change and support the \n",
    "# positive effect of the training program."
   ]
  },
  {
   "cell_type": "code",
   "execution_count": null,
   "metadata": {},
   "outputs": [],
   "source": []
  }
 ],
 "metadata": {
  "kernelspec": {
   "display_name": "ada",
   "language": "python",
   "name": "python3"
  },
  "language_info": {
   "codemirror_mode": {
    "name": "ipython",
    "version": 3
   },
   "file_extension": ".py",
   "mimetype": "text/x-python",
   "name": "python",
   "nbconvert_exporter": "python",
   "pygments_lexer": "ipython3",
   "version": "3.8.13"
  },
  "varInspector": {
   "cols": {
    "lenName": 16,
    "lenType": 16,
    "lenVar": 40
   },
   "kernels_config": {
    "python": {
     "delete_cmd_postfix": "",
     "delete_cmd_prefix": "del ",
     "library": "var_list.py",
     "varRefreshCmd": "print(var_dic_list())"
    },
    "r": {
     "delete_cmd_postfix": ") ",
     "delete_cmd_prefix": "rm(",
     "library": "var_list.r",
     "varRefreshCmd": "cat(var_dic_list()) "
    }
   },
   "types_to_exclude": [
    "module",
    "function",
    "builtin_function_or_method",
    "instance",
    "_Feature"
   ],
   "window_display": false
  },
  "vscode": {
   "interpreter": {
    "hash": "ce99cf25ffd600a1bd039dd0e5fc1f91a501536a7e4709656cdce4bef5f7601c"
   }
  }
 },
 "nbformat": 4,
 "nbformat_minor": 4
}
